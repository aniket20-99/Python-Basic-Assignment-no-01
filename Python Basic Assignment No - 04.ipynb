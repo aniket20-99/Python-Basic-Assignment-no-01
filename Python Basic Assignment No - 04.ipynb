{
 "cells": [
  {
   "cell_type": "markdown",
   "id": "af676c3f",
   "metadata": {},
   "source": [
    "### 1. What exactly is []?"
   ]
  },
  {
   "cell_type": "markdown",
   "id": "8ae5524f",
   "metadata": {},
   "source": [
    "**Ans:-** [] it is a reprentation of empty list. The list that contains no items called empty list."
   ]
  },
  {
   "cell_type": "markdown",
   "id": "463cefc3",
   "metadata": {},
   "source": [
    "### 2. In a list of values stored in a variable called spam, how would you assign the value 'hello' as the third value? (Assume [2, 4, 6, 8, 10] are in spam.)\n"
   ]
  },
  {
   "cell_type": "code",
   "execution_count": 1,
   "id": "e52ce0e4",
   "metadata": {},
   "outputs": [
    {
     "name": "stdout",
     "output_type": "stream",
     "text": [
      "[2, 4, 6, 8]\n",
      "[2, 4, 'hello', 8]\n"
     ]
    }
   ],
   "source": [
    "spam = [2,4,6,8]\n",
    "print(spam)\n",
    "\n",
    "spam[2] = 'hello'\n",
    "print(spam)"
   ]
  },
  {
   "cell_type": "markdown",
   "id": "dc1423b8",
   "metadata": {},
   "source": [
    "## Let's pretend the spam includes the list ['a','b','c','d'] for the next three queries."
   ]
  },
  {
   "cell_type": "markdown",
   "id": "65c07f34",
   "metadata": {},
   "source": [
    "### 3.What is the value of spam[int(int('3'*2)//11)]"
   ]
  },
  {
   "cell_type": "code",
   "execution_count": 2,
   "id": "b5445e24",
   "metadata": {},
   "outputs": [
    {
     "name": "stdout",
     "output_type": "stream",
     "text": [
      "d\n"
     ]
    }
   ],
   "source": [
    "spam = ['a','b','c','d']\n",
    "print(spam[int(int('3'*2)//11)])"
   ]
  },
  {
   "cell_type": "markdown",
   "id": "54423725",
   "metadata": {},
   "source": [
    "**Ans:-** 'd' (Note that '3' * 2 is the string '33', which is passed to int() before being divided by 11. This eventually evaluates to 3, spam[3] is equal to d.)"
   ]
  },
  {
   "cell_type": "markdown",
   "id": "79750d6a",
   "metadata": {},
   "source": [
    "### 4. What is the value of spam[-1]?"
   ]
  },
  {
   "cell_type": "code",
   "execution_count": 12,
   "id": "3602e951",
   "metadata": {},
   "outputs": [
    {
     "name": "stdout",
     "output_type": "stream",
     "text": [
      "The value of spam[-1] is:- d\n"
     ]
    }
   ],
   "source": [
    "spam = ['a','b','c','d']\n",
    "\n",
    "print(\"The value of spam[-1] is:-\", spam[-1])"
   ]
  },
  {
   "cell_type": "markdown",
   "id": "e01e795b",
   "metadata": {},
   "source": []
  },
  {
   "cell_type": "markdown",
   "id": "3232a99a",
   "metadata": {},
   "source": [
    "### 5. What is the value of spam[:2]?"
   ]
  },
  {
   "cell_type": "code",
   "execution_count": 13,
   "id": "881ceb02",
   "metadata": {},
   "outputs": [
    {
     "name": "stdout",
     "output_type": "stream",
     "text": [
      "The value of spam[:2] is:- ['a', 'b']\n"
     ]
    }
   ],
   "source": [
    "spam = ['a','b','c','d']\n",
    "\n",
    "print(\"The value of spam[:2] is:-\", spam[:2])"
   ]
  },
  {
   "cell_type": "markdown",
   "id": "06aec404",
   "metadata": {},
   "source": [
    "## Let's pretend bacon has the list [3.14,'cat',11,'cat',True] for the next three questions."
   ]
  },
  {
   "cell_type": "markdown",
   "id": "55a25250",
   "metadata": {},
   "source": [
    "### 6. What is the value of bacon.index('cat')?"
   ]
  },
  {
   "cell_type": "markdown",
   "id": "fa351ef5",
   "metadata": {},
   "source": [
    "**Ans:-** The value of bacon.index('cat') is 1."
   ]
  },
  {
   "cell_type": "code",
   "execution_count": 17,
   "id": "f7c580d9",
   "metadata": {},
   "outputs": [
    {
     "name": "stdout",
     "output_type": "stream",
     "text": [
      "The value of bacon.index('cat')is:- 1\n"
     ]
    }
   ],
   "source": [
    "bacon = [3.14,'cat',11,'cat',True] \n",
    "\n",
    "print(\"The value of bacon.index('cat')is:-\",bacon.index('cat'))"
   ]
  },
  {
   "cell_type": "markdown",
   "id": "785cd3e9",
   "metadata": {},
   "source": [
    "### 7. How does bacon.append(99) change the look of the list value in bacon?"
   ]
  },
  {
   "cell_type": "code",
   "execution_count": 22,
   "id": "cb303b8c",
   "metadata": {},
   "outputs": [
    {
     "name": "stdout",
     "output_type": "stream",
     "text": [
      "[3.14, 'cat', 11, 'cat', True]\n",
      "[3.14, 'cat', 11, 'cat', True, 99]\n"
     ]
    }
   ],
   "source": [
    "bacon = [3.14,'cat',11,'cat',True] \n",
    "print(bacon)\n",
    "bacon.append(99)\n",
    "print(bacon) "
   ]
  },
  {
   "cell_type": "markdown",
   "id": "ae047ffa",
   "metadata": {},
   "source": [
    "**Ans:-** bacon.append(99) will add a new element **99** at the end of the list bacon."
   ]
  },
  {
   "cell_type": "markdown",
   "id": "232c1e83",
   "metadata": {},
   "source": [
    "### 8. How does bacon.remove('cat') change the look of the list in bacon?"
   ]
  },
  {
   "cell_type": "code",
   "execution_count": 23,
   "id": "e1c47f92",
   "metadata": {},
   "outputs": [
    {
     "name": "stdout",
     "output_type": "stream",
     "text": [
      "[3.14, 'cat', 11, 'cat', True]\n",
      "[3.14, 11, 'cat', True]\n"
     ]
    }
   ],
   "source": [
    "bacon = [3.14,'cat',11,'cat',True] \n",
    "print(bacon)\n",
    "bacon.remove('cat')\n",
    "print(bacon)"
   ]
  },
  {
   "cell_type": "markdown",
   "id": "eff10c86",
   "metadata": {},
   "source": [
    "**Ans:-** bacon.remove('cat') wilL remove the first occurance of the 'cat' element in the list."
   ]
  },
  {
   "cell_type": "markdown",
   "id": "51973077",
   "metadata": {},
   "source": [
    "### 9. What are the list concatenation and list replication operators?"
   ]
  },
  {
   "cell_type": "markdown",
   "id": "447dd74d",
   "metadata": {},
   "source": [
    "**List Concatenation:-** List concatenation is use to add two or more lists into one big list. It's like adding the elements from one list to the end of another list.  \n",
    "It is reperesented by '+' operator.  \n",
    "\n",
    "\n",
    "**List Replication:-** List replication is like making copies of a list. It's like repeating the elements of a list a certain number of times to create a new list.\n",
    "\n",
    "It is reperesented by **'*'** operator."
   ]
  },
  {
   "cell_type": "code",
   "execution_count": 25,
   "id": "79cc4cfa",
   "metadata": {},
   "outputs": [
    {
     "name": "stdout",
     "output_type": "stream",
     "text": [
      "['mumbai', 'kolkata', 'bangalore', 'Maharashtra', 'West bengal', 'Karnatka']\n",
      "['Maharashtra', 'West bengal', 'Karnatka', 'Maharashtra', 'West bengal', 'Karnatka']\n"
     ]
    }
   ],
   "source": [
    "List1 = ['mumbai','kolkata','bangalore']\n",
    "List2 = ['Maharashtra','West bengal','Karnatka']\n",
    "\n",
    "#List concatenation\n",
    "print(List1 + List2)\n",
    "\n",
    "#List Replication\n",
    "print(List2*2)"
   ]
  },
  {
   "cell_type": "markdown",
   "id": "972d4f6d",
   "metadata": {},
   "source": [
    "### 10. What is difference between the list methods append() and insert()?"
   ]
  },
  {
   "cell_type": "markdown",
   "id": "27977eaa",
   "metadata": {},
   "source": [
    "**Ans:-** Both list methods are use to add elements to a list.\n",
    "\n",
    "**append():-**  The append() method use to adds an element to the end of a list. It modifies the original list by placing the new element at the last position.  \n",
    "\n",
    "**insert():-** The insert() method use to adds an element at a specific position within the list. \n",
    "\n"
   ]
  },
  {
   "cell_type": "code",
   "execution_count": 30,
   "id": "5a8dd97d",
   "metadata": {},
   "outputs": [
    {
     "name": "stdout",
     "output_type": "stream",
     "text": [
      "['SQL', 'Python', 'Tableau', 'Power Bi']\n",
      "['SQL', 'ML', 'Python', 'Tableau', 'Power Bi']\n"
     ]
    }
   ],
   "source": [
    "List1 = ['SQL','Python','Tableau']\n",
    "\n",
    "#append()\n",
    "List1.append('Power Bi')\n",
    "print(List1)\n",
    "\n",
    "#insert()\n",
    "List1.insert(1,'ML')\n",
    "print(List1)"
   ]
  },
  {
   "cell_type": "markdown",
   "id": "29d1e4d8",
   "metadata": {},
   "source": [
    "### 11. What are the two methods for removing items from a list?"
   ]
  },
  {
   "cell_type": "markdown",
   "id": "4e835941",
   "metadata": {},
   "source": [
    "**Ans:-** The two methods for removing items from a list are remove() methods and pop() methods."
   ]
  },
  {
   "cell_type": "markdown",
   "id": "d0343c83",
   "metadata": {},
   "source": [
    "**remove():-** The remove() method is used to remove the first occurrence of a specific element from a list.  \n",
    "\n",
    "**pop():-** The pop() method is used to remove an element from a list based on its index."
   ]
  },
  {
   "cell_type": "code",
   "execution_count": 36,
   "id": "6bc66a18",
   "metadata": {},
   "outputs": [
    {
     "name": "stdout",
     "output_type": "stream",
     "text": [
      "[1, 2, 4, 6, 4, 7, 9, 8]\n",
      "[1, 2, 6, 4, 7, 9, 8]\n",
      "[1, 2, 6, 4, 7, 8]\n"
     ]
    }
   ],
   "source": [
    "List_1 = [1,2,4,6,4,7,9,8]\n",
    "print(List_1)\n",
    "\n",
    "# remove() methods\n",
    "List_1.remove(4)\n",
    "print(List_1)\n",
    "\n",
    "# pop() methods\n",
    "List_1.pop(5)\n",
    "print(List_1)"
   ]
  },
  {
   "cell_type": "markdown",
   "id": "e70375a1",
   "metadata": {},
   "source": [
    "### 12. Describe how list values and string values are identical."
   ]
  },
  {
   "cell_type": "markdown",
   "id": "fa0742c2",
   "metadata": {},
   "source": [
    "**Ans:-** Both lists and strings can be passed to len() function, have indexes and slices, be used in for loops, be concatenated or replicated, and be used with the in and not in operators."
   ]
  },
  {
   "cell_type": "markdown",
   "id": "c902c544",
   "metadata": {},
   "source": [
    "### 13. What's the difference between tuples and lists?"
   ]
  },
  {
   "cell_type": "markdown",
   "id": "119278d7",
   "metadata": {},
   "source": [
    "**Ans:-** Lists are Mutable, Indexable and Slicable. they can have values added, removed, or changed. Tuples are Immutable but Indexable and Slicable. the tuple values cannot be changed at all. Also, tuples are represented using parentheses, (), while lists use the square brackets, []."
   ]
  },
  {
   "cell_type": "markdown",
   "id": "58e4efd5",
   "metadata": {},
   "source": [
    "### 14. How do you type a tuple value that only contains the integer 42?"
   ]
  },
  {
   "cell_type": "code",
   "execution_count": 42,
   "id": "9e02d4f6",
   "metadata": {},
   "outputs": [
    {
     "name": "stdout",
     "output_type": "stream",
     "text": [
      "42\n",
      "<class 'int'>\n",
      "(42,)\n",
      "<class 'tuple'>\n"
     ]
    }
   ],
   "source": [
    "tuple1 = (42)\n",
    "\n",
    "print(tuple1)\n",
    "print(type(tuple1))\n",
    "\n",
    "\n",
    "tuple2 = (42,)\n",
    "\n",
    "print(tuple2)\n",
    "print(type(tuple2))"
   ]
  },
  {
   "cell_type": "markdown",
   "id": "67b61824",
   "metadata": {},
   "source": [
    "**Ans:-**  (42,) (The trailing comma is mandatory. otherwise its considered as a int by python Interpreter)"
   ]
  },
  {
   "cell_type": "markdown",
   "id": "1b20a168",
   "metadata": {},
   "source": [
    "### 15. How do you get a list value's tuple form? How do you get a tuple value's list form?"
   ]
  },
  {
   "cell_type": "markdown",
   "id": "de9d17d9",
   "metadata": {},
   "source": [
    "**Ans:-** To get a **list value's** tuple form, we can use the tuple() function. It takes a list as an argument and converts it into a tuple.  \n",
    "\n",
    "To get a **tuple value's** list form, we can use the list() function. It takes a tuple as an argument and converts it into a list."
   ]
  },
  {
   "cell_type": "markdown",
   "id": "ff6a9eee",
   "metadata": {},
   "source": [
    "### 16. Variables that \"contain\" list values are not necessarily lists themselves. Instead, what do they contain?\n"
   ]
  },
  {
   "cell_type": "markdown",
   "id": "f35b3f4c",
   "metadata": {},
   "source": [
    "**Ans:-** variables that \"contain\" list values, actually store a reference to the list, not the list itself."
   ]
  },
  {
   "cell_type": "markdown",
   "id": "d84cf60a",
   "metadata": {},
   "source": [
    "### 17. How do you distinguish between copy.copy() and copy.deepcopy()?"
   ]
  },
  {
   "cell_type": "markdown",
   "id": "f0b35e80",
   "metadata": {},
   "source": [
    "**Ans:-** The copy.copy() function will do a shallow copy of a list, while the copy.deepcopy() function will do a deep copy of a list. That is, only copy.deepcopy() will duplicate any lists inside the list."
   ]
  },
  {
   "cell_type": "code",
   "execution_count": null,
   "id": "26485de6",
   "metadata": {},
   "outputs": [],
   "source": []
  }
 ],
 "metadata": {
  "kernelspec": {
   "display_name": "Python 3 (ipykernel)",
   "language": "python",
   "name": "python3"
  },
  "language_info": {
   "codemirror_mode": {
    "name": "ipython",
    "version": 3
   },
   "file_extension": ".py",
   "mimetype": "text/x-python",
   "name": "python",
   "nbconvert_exporter": "python",
   "pygments_lexer": "ipython3",
   "version": "3.9.12"
  }
 },
 "nbformat": 4,
 "nbformat_minor": 5
}
