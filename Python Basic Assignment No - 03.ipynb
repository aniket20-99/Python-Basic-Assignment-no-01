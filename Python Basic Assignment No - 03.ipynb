{
 "cells": [
  {
   "cell_type": "markdown",
   "id": "61335fc1",
   "metadata": {},
   "source": [
    "### 1. Why are functions advantageous to have in your programs?"
   ]
  },
  {
   "cell_type": "markdown",
   "id": "94d01039",
   "metadata": {},
   "source": [
    "**Ans:-** Function makes programs shorter,easier to read,understand,test,maintain and debug the code.The main advantageous of function is reusabilty of code.  \n"
   ]
  },
  {
   "cell_type": "markdown",
   "id": "6063289a",
   "metadata": {},
   "source": [
    "### 2.When does the code in a function run: when it's  specified or when it's called?"
   ]
  },
  {
   "cell_type": "markdown",
   "id": "356b976a",
   "metadata": {},
   "source": [
    "**Ans:-** The code in a function run, when the function is called, not when the function is specified."
   ]
  },
  {
   "cell_type": "markdown",
   "id": "bb97da3a",
   "metadata": {},
   "source": [
    "### 3.What statement creates a function?"
   ]
  },
  {
   "cell_type": "markdown",
   "id": "a7f14696",
   "metadata": {},
   "source": [
    "**Ans:-**The **'def'** statement creates a function."
   ]
  },
  {
   "cell_type": "code",
   "execution_count": 13,
   "id": "439f9665",
   "metadata": {},
   "outputs": [],
   "source": [
    "def Add_num(a,b):\n",
    "    Sum = a + b\n",
    "    print(f\"The sum of num a and b is {a+b}\")"
   ]
  },
  {
   "cell_type": "code",
   "execution_count": 14,
   "id": "966cf560",
   "metadata": {},
   "outputs": [
    {
     "name": "stdout",
     "output_type": "stream",
     "text": [
      "The sum of num a and b is 35\n",
      "None\n"
     ]
    }
   ],
   "source": [
    "Add1 = Add_num(20,15)\n",
    "print(Add1)"
   ]
  },
  {
   "cell_type": "markdown",
   "id": "8d7c64ed",
   "metadata": {},
   "source": [
    "### 4.What is the difference between a function and a function call?"
   ]
  },
  {
   "cell_type": "markdown",
   "id": "16aca717",
   "metadata": {},
   "source": [
    "**Ans:-** A function is defined as a block of code that performs a specific task. A function call is the act of executing that function by providing any required arguments. Functions define behavior, while function call, invoke or run that behavior."
   ]
  },
  {
   "cell_type": "markdown",
   "id": "9d9afe77",
   "metadata": {},
   "source": [
    "### 5. How many global scopes are there in a Python program? How many local scopes?"
   ]
  },
  {
   "cell_type": "markdown",
   "id": "91490881",
   "metadata": {},
   "source": [
    "**Ans:-** In a Python program, there is only one global scope. It is the top-level scope where variables and functions defined outside of any   \n",
    "function or class are accessible.  \n",
    "\n",
    "The number of local scopes in a Python program varies based on the number of functions or blocks of code that define their own scopes. \n"
   ]
  },
  {
   "cell_type": "markdown",
   "id": "11d14c58",
   "metadata": {},
   "source": [
    "### 6. What happens to variables in a local scope when the function call returns?"
   ]
  },
  {
   "cell_type": "markdown",
   "id": "39755de9",
   "metadata": {},
   "source": [
    "**Ans:-** When a function call returns, the local variables within the function's local scope are destroyed and all the variable in it are destroyed. "
   ]
  },
  {
   "cell_type": "markdown",
   "id": "caa2cf45",
   "metadata": {},
   "source": [
    "### 7. What is the concept of a return value? Is it possible to have a return value in an expression?"
   ]
  },
  {
   "cell_type": "markdown",
   "id": "bcb3d6e8",
   "metadata": {},
   "source": [
    "**Ans:-** The concept of a return value in programming refers to the value that a function can optionally send back to the caller once it completes its execution.  \n",
    "\n",
    "Yes, it is possible to have a return value in a expression by by directly using the function call within an expression or assignment statement. "
   ]
  },
  {
   "cell_type": "markdown",
   "id": "73d97c2b",
   "metadata": {},
   "source": [
    "### 8. If a function does not have a return statement, what is the return value of a call to that function?"
   ]
  },
  {
   "cell_type": "markdown",
   "id": "031e619b",
   "metadata": {},
   "source": [
    "**Ans:-** If a function does not have a return statement, then it  return value is None."
   ]
  },
  {
   "cell_type": "markdown",
   "id": "0cb4e49c",
   "metadata": {},
   "source": [
    "### 9. How do you make a function variable refer to the global variable?"
   ]
  },
  {
   "cell_type": "markdown",
   "id": "53898e77",
   "metadata": {},
   "source": [
    "**Ans:-** A global statement will force a variable in a function to refer to the global variable. If you want to refer to a global variable in a function, you can use the **'global'** keyword to declare which variables are global."
   ]
  },
  {
   "cell_type": "markdown",
   "id": "8b92fd1f",
   "metadata": {},
   "source": [
    "### 10. What is the data type of None?"
   ]
  },
  {
   "cell_type": "markdown",
   "id": "2648501b",
   "metadata": {},
   "source": [
    "**Ans:-** The data type of None in Python is **NoneType**. It is a built-in type that has only one possible value, which is **None**."
   ]
  },
  {
   "cell_type": "markdown",
   "id": "63d38791",
   "metadata": {},
   "source": [
    "### 11. What does the sentence import areallyourpetsnamederic do?"
   ]
  },
  {
   "cell_type": "markdown",
   "id": "d6576e3b",
   "metadata": {},
   "source": [
    "**Ans:-** The sentence import areallyourpetsnamederic does not have any meaningful or standard effect in Python. It is an arbitrary statement that attempts to import a module or package named **\"areallyourpetsnamederic\"**."
   ]
  },
  {
   "cell_type": "markdown",
   "id": "a3362483",
   "metadata": {},
   "source": [
    "### 12. If you had a bacon() feature in a spam module, what would you call it after importing spam?"
   ]
  },
  {
   "cell_type": "markdown",
   "id": "35f2f51c",
   "metadata": {},
   "source": [
    "**Ans:-**  This function can be called with spam.bacon().\n",
    "\n"
   ]
  },
  {
   "cell_type": "markdown",
   "id": "58598864",
   "metadata": {},
   "source": [
    "### 13. What can you do to save a programme from crashing if it encounters an error?"
   ]
  },
  {
   "cell_type": "markdown",
   "id": "16ce386b",
   "metadata": {},
   "source": [
    "**Ans:-** To save a program from crashing when encountering an error, we can use exception handling. Exception handling allows us to catch and handle specific types of errors or exceptions that may occur during program execution."
   ]
  },
  {
   "cell_type": "markdown",
   "id": "0aca8eb7",
   "metadata": {},
   "source": [
    "### 14. What is the purpose of the try clause? What is the purpose of the except clause?"
   ]
  },
  {
   "cell_type": "markdown",
   "id": "e44e200f",
   "metadata": {},
   "source": [
    "**Ans:-** The code that could potentially cause an error goes in the try clause. The code that executes if an error happens goes in the except clause."
   ]
  },
  {
   "cell_type": "code",
   "execution_count": null,
   "id": "433b2df1",
   "metadata": {},
   "outputs": [],
   "source": []
  }
 ],
 "metadata": {
  "kernelspec": {
   "display_name": "Python 3 (ipykernel)",
   "language": "python",
   "name": "python3"
  },
  "language_info": {
   "codemirror_mode": {
    "name": "ipython",
    "version": 3
   },
   "file_extension": ".py",
   "mimetype": "text/x-python",
   "name": "python",
   "nbconvert_exporter": "python",
   "pygments_lexer": "ipython3",
   "version": "3.9.12"
  }
 },
 "nbformat": 4,
 "nbformat_minor": 5
}
