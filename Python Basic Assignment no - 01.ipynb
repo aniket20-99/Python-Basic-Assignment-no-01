{
 "cells": [
  {
   "cell_type": "markdown",
   "id": "a6f8f9aa",
   "metadata": {},
   "source": [
    "## 1. In the below elements which of them are values or an expression?  eg:- values can be              integer or string and expressions will be mathematical operators.\n",
    "    \n",
    "    "
   ]
  },
  {
   "cell_type": "markdown",
   "id": "70652017",
   "metadata": {},
   "source": [
    "1  *    = Operators\n",
    "\n",
    "2  'hello'  = Values\n",
    "\n",
    "3  -87.8  =  Values\n",
    "\n",
    "4   -    =  Operators\n",
    "\n",
    "5    /    =  Operators\n",
    "\n",
    "6   +\t   = Operators\n",
    "\n",
    "7,   6     =  Value"
   ]
  },
  {
   "cell_type": "markdown",
   "id": "e2a97839",
   "metadata": {},
   "source": [
    "## 2. What is the difference between string and variable?"
   ]
  },
  {
   "cell_type": "markdown",
   "id": "594b72af",
   "metadata": {},
   "source": [
    "-> String is a type of information which we can store in a variable.\n",
    "\n",
    "   Strings are declared by writing the information within \"  \",\n",
    "\n",
    "   For example:- \"My name is Aniket\"\n",
    "\n",
    "\n",
    "-> Variable is a named location where data/information are store in a memory.\n",
    "\n",
    "Variables are declared by writing the variable name and assigning it a value using the equals sign (=). \n",
    "\n",
    "For example:\n",
    "\n",
    "name = \"Aniket\"\n",
    "\n",
    "Here name is variable in which data is store \"Aniket\""
   ]
  },
  {
   "cell_type": "markdown",
   "id": "6ca2e6e7",
   "metadata": {},
   "source": [
    "## 3. Describe three different data types."
   ]
  },
  {
   "cell_type": "markdown",
   "id": "271fd373",
   "metadata": {},
   "source": [
    "\n",
    "The three different data types are:-\n",
    "\n",
    "(i) - str() \"Strings\"\n",
    "\n",
    "-> String is a collection of character, which is use to store the text/characters.\n",
    "\n",
    "String can be dispaly by either single or double quatation marks.\n",
    "\n",
    "For example : \"This is my first assignment\"\n",
    "\n",
    "(ii) - Int()  \"Integers\"\n",
    "\n",
    "-> Integers is a numeric data type which  used to store  the number, it can be zero, negative or positive. \n",
    "\n",
    "For example : 0, 78, -45\n",
    "\n",
    "(3) -  Float() \"Floating \"\n",
    "\n",
    "-> Floating is also a numeric data type which is used to store the decimal values or fractional number.\n",
    "\n",
    "For Example:- 145.8 , 7638.9"
   ]
  },
  {
   "cell_type": "markdown",
   "id": "679a78a5",
   "metadata": {},
   "source": [
    "## 4. What is an expression made up of? What do all expressions do?"
   ]
  },
  {
   "cell_type": "markdown",
   "id": "6e911885",
   "metadata": {},
   "source": [
    "-> Expression is the combination of variables, operators and operands.\n",
    "\n",
    "-> Expression is used to produce value or result after being interpreted by python interpreter.\n",
    "\n"
   ]
  },
  {
   "cell_type": "markdown",
   "id": "4d613600",
   "metadata": {},
   "source": [
    "## 5. This assignment statements, like spam = 10. What is the difference between an expression and a statement?"
   ]
  },
  {
   "cell_type": "markdown",
   "id": "2bc740c1",
   "metadata": {},
   "source": [
    "-> Expression is the combination of variables, operators and operands\n",
    "\n",
    "-> Expression is used to produce value or result after being interpreted by python interpreter.\n",
    "\n",
    "\n",
    "-> Statement is an instruction that the Python interpreter can execute.\n",
    "\n",
    "-> statement are used to carry out actions and control the flow of a program.\n",
    "\n",
    "-> An assignment statement sets the current value of a variable.\n",
    "   For example:- spam = 10"
   ]
  },
  {
   "cell_type": "markdown",
   "id": "f6952206",
   "metadata": {},
   "source": [
    "## 6. After running the following code, what does the variable bacon contain?\n",
    "#### bacon = 22\n",
    "#### bacon + 1\n"
   ]
  },
  {
   "cell_type": "code",
   "execution_count": 7,
   "id": "a91ebfae",
   "metadata": {},
   "outputs": [
    {
     "name": "stdout",
     "output_type": "stream",
     "text": [
      "23\n"
     ]
    }
   ],
   "source": [
    "bacon = 22\n",
    "\n",
    "bacon + 1\n",
    "\n",
    "bacon = bacon + 1\n",
    "\n",
    "print (bacon)\n",
    "\n",
    "# If we print bacon it will return 22, and if we print bacon + 1 then it will print 23.\n",
    "# If we assign bacon + 1 to bacon like bacon = bacon + 1, then bacon will return 23"
   ]
  },
  {
   "cell_type": "markdown",
   "id": "74c5eb47",
   "metadata": {},
   "source": [
    "## 7. What should the values of the following two terms be?\n",
    "####  'spam' + 'spamspam'\n",
    "####  'spam' * 3\n"
   ]
  },
  {
   "cell_type": "code",
   "execution_count": 9,
   "id": "adf5ec92",
   "metadata": {},
   "outputs": [
    {
     "data": {
      "text/plain": [
       "'spamspamspam'"
      ]
     },
     "execution_count": 9,
     "metadata": {},
     "output_type": "execute_result"
    }
   ],
   "source": [
    "'spam' + 'spamspam'"
   ]
  },
  {
   "cell_type": "code",
   "execution_count": 11,
   "id": "f17879a6",
   "metadata": {},
   "outputs": [
    {
     "data": {
      "text/plain": [
       "'spamspamspam'"
      ]
     },
     "execution_count": 11,
     "metadata": {},
     "output_type": "execute_result"
    }
   ],
   "source": [
    "'spam'*3\n",
    "\n",
    "# In both expression they evaluate the same string three times spam like:- ('spamspamspam')"
   ]
  },
  {
   "cell_type": "markdown",
   "id": "0e96f287",
   "metadata": {},
   "source": [
    "## 8. Why is eggs a valid variable name while 100 is invalid?"
   ]
  },
  {
   "cell_type": "markdown",
   "id": "36ed6362",
   "metadata": {},
   "source": [
    "-> 100 is invalid because variable name can't start with a number.\n",
    "\n",
    "-> While eggs a valid variable because it starts with alphabet.\n",
    "\n",
    "-> For a valid varaible name it should always starts with any \n",
    "    alphabet, underscore except any digits "
   ]
  },
  {
   "cell_type": "markdown",
   "id": "25706b56",
   "metadata": {},
   "source": [
    "## 9. What three functions can be used to get the integer, floating-point number, or string version of a value?"
   ]
  },
  {
   "cell_type": "markdown",
   "id": "5e0d1ae9",
   "metadata": {},
   "source": [
    "-> The following functions is used to get the integer, floating-point number, or string version of a value\n",
    "   \n",
    "-> integer - int()\n",
    "\n",
    "-> floating_point number - float()\n",
    "\n",
    "-> string - str()\n",
    "    "
   ]
  },
  {
   "cell_type": "markdown",
   "id": "2af50bf1",
   "metadata": {},
   "source": [
    "## 10. Why does this expression cause an error? How can you fix it?\n",
    "###   'I have eaten ' + 99 + ' burritos.'\n"
   ]
  },
  {
   "cell_type": "code",
   "execution_count": 18,
   "id": "c0af492e",
   "metadata": {},
   "outputs": [
    {
     "ename": "TypeError",
     "evalue": "can only concatenate str (not \"int\") to str",
     "output_type": "error",
     "traceback": [
      "\u001b[1;31m---------------------------------------------------------------------------\u001b[0m",
      "\u001b[1;31mTypeError\u001b[0m                                 Traceback (most recent call last)",
      "Input \u001b[1;32mIn [18]\u001b[0m, in \u001b[0;36m<cell line: 1>\u001b[1;34m()\u001b[0m\n\u001b[1;32m----> 1\u001b[0m \u001b[38;5;124;43m'\u001b[39;49m\u001b[38;5;124;43mI have eaten \u001b[39;49m\u001b[38;5;124;43m'\u001b[39;49m\u001b[43m \u001b[49m\u001b[38;5;241;43m+\u001b[39;49m\u001b[43m \u001b[49m\u001b[38;5;241;43m99\u001b[39;49m \u001b[38;5;241m+\u001b[39m \u001b[38;5;124m'\u001b[39m\u001b[38;5;124m burritos.\u001b[39m\u001b[38;5;124m'\u001b[39m\n",
      "\u001b[1;31mTypeError\u001b[0m: can only concatenate str (not \"int\") to str"
     ]
    }
   ],
   "source": [
    "'I have eaten ' + 99 + ' burritos.'\n",
    "\n",
    "# The above expression cause an error becaause it is concatenating string to integer, which is not a valid expression.\n",
    "# If we have to fix it we have to conevert the integer 99 to a string like '99'"
   ]
  },
  {
   "cell_type": "code",
   "execution_count": 20,
   "id": "f2583334",
   "metadata": {},
   "outputs": [
    {
     "data": {
      "text/plain": [
       "'I have eaten 99 burritos.'"
      ]
     },
     "execution_count": 20,
     "metadata": {},
     "output_type": "execute_result"
    }
   ],
   "source": [
    "# So the valid expression will be \n",
    "\n",
    "'I have eaten ' + '99' + ' burritos.'\n"
   ]
  },
  {
   "cell_type": "code",
   "execution_count": null,
   "id": "b5fd4cc7",
   "metadata": {},
   "outputs": [],
   "source": []
  }
 ],
 "metadata": {
  "kernelspec": {
   "display_name": "Python 3 (ipykernel)",
   "language": "python",
   "name": "python3"
  },
  "language_info": {
   "codemirror_mode": {
    "name": "ipython",
    "version": 3
   },
   "file_extension": ".py",
   "mimetype": "text/x-python",
   "name": "python",
   "nbconvert_exporter": "python",
   "pygments_lexer": "ipython3",
   "version": "3.9.12"
  }
 },
 "nbformat": 4,
 "nbformat_minor": 5
}
